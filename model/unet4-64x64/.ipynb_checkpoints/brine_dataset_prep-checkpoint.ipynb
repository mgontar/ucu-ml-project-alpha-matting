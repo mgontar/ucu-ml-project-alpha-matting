{
 "cells": [
  {
   "cell_type": "code",
   "execution_count": 1,
   "metadata": {
    "collapsed": true
   },
   "outputs": [],
   "source": [
    "import brine\n",
    "import os, stat\n",
    "import json\n",
    "import numpy as np\n",
    "from shutil import copyfile"
   ]
  },
  {
   "cell_type": "code",
   "execution_count": 2,
   "metadata": {
    "collapsed": true
   },
   "outputs": [],
   "source": [
    "if os.path.exists(\"images\"):\n",
    "    for root, dirs, files in os.walk(\"images\", topdown=False):\n",
    "        for name in files:\n",
    "            os.remove(os.path.join(root, name))\n",
    "        for name in dirs:\n",
    "            os.rmdir(os.path.join(root, name))\n",
    "else:\n",
    "    os.makedirs(\"images\")"
   ]
  },
  {
   "cell_type": "code",
   "execution_count": 3,
   "metadata": {
    "collapsed": true
   },
   "outputs": [],
   "source": [
    "path_img = \"../../dataset/5.output/images_64x64/class/\"\n",
    "path_msk = \"../../dataset/5.output/masks_64x64/class/\"\n",
    "filenames_img = [\"image\"]\n",
    "for filename in os.listdir(path_img):\n",
    "    filenames_img.append(filename)\n",
    "    copyfile(path_img+filename, \"images\"+\"\\\\\"+filename)\n",
    "filenames_msk = [\"mask\"]\n",
    "for filename in os.listdir(path_msk):\n",
    "    filenames_msk.append(filename)\n",
    "    copyfile(path_msk+filename, \"images\"+\"\\\\\"+filename)    "
   ]
  },
  {
   "cell_type": "code",
   "execution_count": 4,
   "metadata": {
    "collapsed": true
   },
   "outputs": [],
   "source": [
    "data = np.column_stack((filenames_img, filenames_msk))\n",
    "np.savetxt(\"images/annotations.csv\", data, delimiter=\",\", fmt='%s')"
   ]
  },
  {
   "cell_type": "code",
   "execution_count": 5,
   "metadata": {
    "collapsed": true
   },
   "outputs": [],
   "source": [
    "data = {\n",
    "        \"path\": \"annotations.csv\",\n",
    "        \"columns\": [\n",
    "                {\n",
    "                        \"name\": \"image\",\n",
    "                        \"type\": \"image\"\n",
    "                },\n",
    "                {\n",
    "                        \"name\": \"mask\",\n",
    "                        \"type\": \"image\"\n",
    "                }\n",
    "        ]\n",
    "    }\n",
    "with open('images/config.json', 'w') as outfile:\n",
    "    json.dump(data, outfile)"
   ]
  },
  {
   "cell_type": "code",
   "execution_count": 6,
   "metadata": {},
   "outputs": [
    {
     "name": "stdout",
     "output_type": "stream",
     "text": [
      "Dataset dataset/images-and-masks was built.\n"
     ]
    },
    {
     "name": "stderr",
     "output_type": "stream",
     "text": [
      "\n",
      "  0%|          | 0/240 [00:00<?, ? images/s]\n",
      "  8%|8         | 20/240 [00:00<00:01, 194.05 images/s]\n",
      " 17%|#6        | 40/240 [00:00<00:01, 195.76 images/s]\n",
      " 26%|##5       | 62/240 [00:00<00:00, 201.86 images/s]\n",
      " 35%|###4      | 83/240 [00:00<00:00, 204.19 images/s]\n",
      " 43%|####3     | 104/240 [00:00<00:00, 202.87 images/s]\n",
      " 51%|#####     | 122/240 [00:00<00:00, 192.87 images/s]\n",
      " 59%|#####9    | 142/240 [00:00<00:00, 193.78 images/s]\n",
      " 68%|######7   | 163/240 [00:00<00:00, 197.22 images/s]\n",
      " 77%|#######6  | 184/240 [00:00<00:00, 199.70 images/s]\n",
      " 85%|########5 | 204/240 [00:01<00:00, 188.45 images/s]\n",
      " 93%|#########2| 223/240 [00:01<00:00, 157.01 images/s]\n",
      "100%|##########| 240/240 [00:01<00:00, 153.27 images/s]\n"
     ]
    }
   ],
   "source": [
    "!brine build dataset/images-and-masks --config images/config.json"
   ]
  },
  {
   "cell_type": "code",
   "execution_count": 7,
   "metadata": {
    "collapsed": true
   },
   "outputs": [],
   "source": [
    "dataset = brine.load_dataset('dataset/images-and-masks')"
   ]
  }
 ],
 "metadata": {
  "kernelspec": {
   "display_name": "Python 3",
   "language": "python",
   "name": "python3"
  },
  "language_info": {
   "codemirror_mode": {
    "name": "ipython",
    "version": 3
   },
   "file_extension": ".py",
   "mimetype": "text/x-python",
   "name": "python",
   "nbconvert_exporter": "python",
   "pygments_lexer": "ipython3",
   "version": "3.6.2"
  }
 },
 "nbformat": 4,
 "nbformat_minor": 2
}
